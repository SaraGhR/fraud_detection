{
  "cells": [
    {
      "cell_type": "markdown",
      "source": [
        "**fraud detection**"
      ],
      "metadata": {
        "id": "l1bvOsM_8NH6"
      },
      "id": "l1bvOsM_8NH6"
    },
    {
      "cell_type": "code",
      "execution_count": null,
      "metadata": {
        "id": "cdda987d-45c0-44e5-869e-84279577a38b"
      },
      "outputs": [],
      "source": [
        "import numpy as np\n",
        "import pandas as pd"
      ],
      "id": "cdda987d-45c0-44e5-869e-84279577a38b"
    },
    {
      "cell_type": "code",
      "execution_count": null,
      "metadata": {
        "id": "6a8b4ab0"
      },
      "outputs": [],
      "source": [
        "# do some preprocessing "
      ],
      "id": "6a8b4ab0"
    },
    {
      "cell_type": "code",
      "execution_count": null,
      "metadata": {
        "id": "3f24eb72-9be5-4124-a656-0fc34a93a771",
        "outputId": "f2dd3050-3c6d-4955-ec8c-9c87481243aa",
        "colab": {
          "base_uri": "https://localhost:8080/",
          "height": 488
        }
      },
      "outputs": [
        {
          "output_type": "execute_result",
          "data": {
            "text/plain": [
              "         Time        V1        V2        V3        V4        V5        V6  \\\n",
              "0      8365.0 -0.655093  1.102283  1.610914  2.542440  0.928295  0.344427   \n",
              "1     10222.0 -0.643681  0.953126  2.223666  1.134587 -0.198051  0.435065   \n",
              "2     35866.0 -2.044489  3.368306 -3.937111  5.623120 -3.079232 -1.253474   \n",
              "3     10836.0  1.020913 -0.400279  0.662579  0.341929 -0.656141 -0.021927   \n",
              "4        69.0  0.298503  2.142722 -1.542143  1.561332  0.938108 -2.145673   \n",
              "...       ...       ...       ...       ...       ...       ...       ...   \n",
              "1949    715.0  1.090820 -0.167031  0.350139  0.695740 -0.378402 -0.168184   \n",
              "1950  14545.0 -0.283209  0.411778  0.399472 -1.464226  2.170062  3.539932   \n",
              "1951   2620.0  0.963303  0.281584  0.069207  2.449902  0.136697 -0.165460   \n",
              "1952    926.0  0.829998 -0.611411  1.035351  1.615569 -0.283094  2.146994   \n",
              "1953   7589.0 -0.271919  1.294849  1.104971  0.057965  0.587584 -0.434542   \n",
              "\n",
              "            V7        V8        V9  ...       V21       V22       V23  \\\n",
              "0     0.340831 -0.004130 -0.039325  ...  0.025710  0.297263 -0.195074   \n",
              "1     0.221857  0.017773  1.931767  ... -0.066355  0.684519 -0.210179   \n",
              "2    -5.778880  1.707428 -4.467103  ...  1.483594  0.834311 -0.148486   \n",
              "3    -0.386604  0.054592  1.820545  ... -0.131286 -0.065529 -0.067101   \n",
              "4     1.405569 -0.778459  0.328636  ... -0.290987 -0.000235  0.092174   \n",
              "...        ...       ...       ...  ...       ...       ...       ...   \n",
              "1949 -0.035248  0.005667  0.191769  ... -0.161932 -0.452659 -0.098339   \n",
              "1950 -0.354121  0.877707  1.003825  ... -0.036509 -0.041467 -0.168437   \n",
              "1951  0.403000  0.051941 -1.119600  ...  0.112280  0.035361 -0.119345   \n",
              "1952 -0.830778  0.824311  1.478535  ... -0.309388 -0.500548  0.154324   \n",
              "1953  0.659491 -0.149449  0.816090  ...       NaN       NaN       NaN   \n",
              "\n",
              "           V24       V25       V26       V27       V28  Amount  Class  \n",
              "0    -0.476353 -0.269339  0.154728 -0.004028  0.155044   16.93    0.0  \n",
              "1     0.036703 -0.126450 -0.199370  0.377610  0.033734   20.24    0.0  \n",
              "2     0.001669 -0.038996  0.389526  1.300236  0.549940    7.61    1.0  \n",
              "3     0.260703  0.253718  1.066000 -0.096361 -0.005774   79.95    0.0  \n",
              "4     0.586205 -0.397314 -0.480949  0.251145 -0.242279    0.78    0.0  \n",
              "...        ...       ...       ...       ...       ...     ...    ...  \n",
              "1949  0.050589  0.451644  0.264640 -0.037335  0.010801   69.97    0.0  \n",
              "1950  1.013956 -0.088413  1.005545 -0.037836  0.039216   15.95    0.0  \n",
              "1951  0.199708  0.519058  0.063664 -0.052564  0.010307   88.29    0.0  \n",
              "1952 -0.996832  0.108640 -0.411158  0.125290  0.023370   64.99    0.0  \n",
              "1953       NaN       NaN       NaN       NaN       NaN     NaN    NaN  \n",
              "\n",
              "[1954 rows x 31 columns]"
            ],
            "text/html": [
              "\n",
              "  <div id=\"df-aeb377b0-a9a8-49ff-aebd-59af0a97d5c3\">\n",
              "    <div class=\"colab-df-container\">\n",
              "      <div>\n",
              "<style scoped>\n",
              "    .dataframe tbody tr th:only-of-type {\n",
              "        vertical-align: middle;\n",
              "    }\n",
              "\n",
              "    .dataframe tbody tr th {\n",
              "        vertical-align: top;\n",
              "    }\n",
              "\n",
              "    .dataframe thead th {\n",
              "        text-align: right;\n",
              "    }\n",
              "</style>\n",
              "<table border=\"1\" class=\"dataframe\">\n",
              "  <thead>\n",
              "    <tr style=\"text-align: right;\">\n",
              "      <th></th>\n",
              "      <th>Time</th>\n",
              "      <th>V1</th>\n",
              "      <th>V2</th>\n",
              "      <th>V3</th>\n",
              "      <th>V4</th>\n",
              "      <th>V5</th>\n",
              "      <th>V6</th>\n",
              "      <th>V7</th>\n",
              "      <th>V8</th>\n",
              "      <th>V9</th>\n",
              "      <th>...</th>\n",
              "      <th>V21</th>\n",
              "      <th>V22</th>\n",
              "      <th>V23</th>\n",
              "      <th>V24</th>\n",
              "      <th>V25</th>\n",
              "      <th>V26</th>\n",
              "      <th>V27</th>\n",
              "      <th>V28</th>\n",
              "      <th>Amount</th>\n",
              "      <th>Class</th>\n",
              "    </tr>\n",
              "  </thead>\n",
              "  <tbody>\n",
              "    <tr>\n",
              "      <th>0</th>\n",
              "      <td>8365.0</td>\n",
              "      <td>-0.655093</td>\n",
              "      <td>1.102283</td>\n",
              "      <td>1.610914</td>\n",
              "      <td>2.542440</td>\n",
              "      <td>0.928295</td>\n",
              "      <td>0.344427</td>\n",
              "      <td>0.340831</td>\n",
              "      <td>-0.004130</td>\n",
              "      <td>-0.039325</td>\n",
              "      <td>...</td>\n",
              "      <td>0.025710</td>\n",
              "      <td>0.297263</td>\n",
              "      <td>-0.195074</td>\n",
              "      <td>-0.476353</td>\n",
              "      <td>-0.269339</td>\n",
              "      <td>0.154728</td>\n",
              "      <td>-0.004028</td>\n",
              "      <td>0.155044</td>\n",
              "      <td>16.93</td>\n",
              "      <td>0.0</td>\n",
              "    </tr>\n",
              "    <tr>\n",
              "      <th>1</th>\n",
              "      <td>10222.0</td>\n",
              "      <td>-0.643681</td>\n",
              "      <td>0.953126</td>\n",
              "      <td>2.223666</td>\n",
              "      <td>1.134587</td>\n",
              "      <td>-0.198051</td>\n",
              "      <td>0.435065</td>\n",
              "      <td>0.221857</td>\n",
              "      <td>0.017773</td>\n",
              "      <td>1.931767</td>\n",
              "      <td>...</td>\n",
              "      <td>-0.066355</td>\n",
              "      <td>0.684519</td>\n",
              "      <td>-0.210179</td>\n",
              "      <td>0.036703</td>\n",
              "      <td>-0.126450</td>\n",
              "      <td>-0.199370</td>\n",
              "      <td>0.377610</td>\n",
              "      <td>0.033734</td>\n",
              "      <td>20.24</td>\n",
              "      <td>0.0</td>\n",
              "    </tr>\n",
              "    <tr>\n",
              "      <th>2</th>\n",
              "      <td>35866.0</td>\n",
              "      <td>-2.044489</td>\n",
              "      <td>3.368306</td>\n",
              "      <td>-3.937111</td>\n",
              "      <td>5.623120</td>\n",
              "      <td>-3.079232</td>\n",
              "      <td>-1.253474</td>\n",
              "      <td>-5.778880</td>\n",
              "      <td>1.707428</td>\n",
              "      <td>-4.467103</td>\n",
              "      <td>...</td>\n",
              "      <td>1.483594</td>\n",
              "      <td>0.834311</td>\n",
              "      <td>-0.148486</td>\n",
              "      <td>0.001669</td>\n",
              "      <td>-0.038996</td>\n",
              "      <td>0.389526</td>\n",
              "      <td>1.300236</td>\n",
              "      <td>0.549940</td>\n",
              "      <td>7.61</td>\n",
              "      <td>1.0</td>\n",
              "    </tr>\n",
              "    <tr>\n",
              "      <th>3</th>\n",
              "      <td>10836.0</td>\n",
              "      <td>1.020913</td>\n",
              "      <td>-0.400279</td>\n",
              "      <td>0.662579</td>\n",
              "      <td>0.341929</td>\n",
              "      <td>-0.656141</td>\n",
              "      <td>-0.021927</td>\n",
              "      <td>-0.386604</td>\n",
              "      <td>0.054592</td>\n",
              "      <td>1.820545</td>\n",
              "      <td>...</td>\n",
              "      <td>-0.131286</td>\n",
              "      <td>-0.065529</td>\n",
              "      <td>-0.067101</td>\n",
              "      <td>0.260703</td>\n",
              "      <td>0.253718</td>\n",
              "      <td>1.066000</td>\n",
              "      <td>-0.096361</td>\n",
              "      <td>-0.005774</td>\n",
              "      <td>79.95</td>\n",
              "      <td>0.0</td>\n",
              "    </tr>\n",
              "    <tr>\n",
              "      <th>4</th>\n",
              "      <td>69.0</td>\n",
              "      <td>0.298503</td>\n",
              "      <td>2.142722</td>\n",
              "      <td>-1.542143</td>\n",
              "      <td>1.561332</td>\n",
              "      <td>0.938108</td>\n",
              "      <td>-2.145673</td>\n",
              "      <td>1.405569</td>\n",
              "      <td>-0.778459</td>\n",
              "      <td>0.328636</td>\n",
              "      <td>...</td>\n",
              "      <td>-0.290987</td>\n",
              "      <td>-0.000235</td>\n",
              "      <td>0.092174</td>\n",
              "      <td>0.586205</td>\n",
              "      <td>-0.397314</td>\n",
              "      <td>-0.480949</td>\n",
              "      <td>0.251145</td>\n",
              "      <td>-0.242279</td>\n",
              "      <td>0.78</td>\n",
              "      <td>0.0</td>\n",
              "    </tr>\n",
              "    <tr>\n",
              "      <th>...</th>\n",
              "      <td>...</td>\n",
              "      <td>...</td>\n",
              "      <td>...</td>\n",
              "      <td>...</td>\n",
              "      <td>...</td>\n",
              "      <td>...</td>\n",
              "      <td>...</td>\n",
              "      <td>...</td>\n",
              "      <td>...</td>\n",
              "      <td>...</td>\n",
              "      <td>...</td>\n",
              "      <td>...</td>\n",
              "      <td>...</td>\n",
              "      <td>...</td>\n",
              "      <td>...</td>\n",
              "      <td>...</td>\n",
              "      <td>...</td>\n",
              "      <td>...</td>\n",
              "      <td>...</td>\n",
              "      <td>...</td>\n",
              "      <td>...</td>\n",
              "    </tr>\n",
              "    <tr>\n",
              "      <th>1949</th>\n",
              "      <td>715.0</td>\n",
              "      <td>1.090820</td>\n",
              "      <td>-0.167031</td>\n",
              "      <td>0.350139</td>\n",
              "      <td>0.695740</td>\n",
              "      <td>-0.378402</td>\n",
              "      <td>-0.168184</td>\n",
              "      <td>-0.035248</td>\n",
              "      <td>0.005667</td>\n",
              "      <td>0.191769</td>\n",
              "      <td>...</td>\n",
              "      <td>-0.161932</td>\n",
              "      <td>-0.452659</td>\n",
              "      <td>-0.098339</td>\n",
              "      <td>0.050589</td>\n",
              "      <td>0.451644</td>\n",
              "      <td>0.264640</td>\n",
              "      <td>-0.037335</td>\n",
              "      <td>0.010801</td>\n",
              "      <td>69.97</td>\n",
              "      <td>0.0</td>\n",
              "    </tr>\n",
              "    <tr>\n",
              "      <th>1950</th>\n",
              "      <td>14545.0</td>\n",
              "      <td>-0.283209</td>\n",
              "      <td>0.411778</td>\n",
              "      <td>0.399472</td>\n",
              "      <td>-1.464226</td>\n",
              "      <td>2.170062</td>\n",
              "      <td>3.539932</td>\n",
              "      <td>-0.354121</td>\n",
              "      <td>0.877707</td>\n",
              "      <td>1.003825</td>\n",
              "      <td>...</td>\n",
              "      <td>-0.036509</td>\n",
              "      <td>-0.041467</td>\n",
              "      <td>-0.168437</td>\n",
              "      <td>1.013956</td>\n",
              "      <td>-0.088413</td>\n",
              "      <td>1.005545</td>\n",
              "      <td>-0.037836</td>\n",
              "      <td>0.039216</td>\n",
              "      <td>15.95</td>\n",
              "      <td>0.0</td>\n",
              "    </tr>\n",
              "    <tr>\n",
              "      <th>1951</th>\n",
              "      <td>2620.0</td>\n",
              "      <td>0.963303</td>\n",
              "      <td>0.281584</td>\n",
              "      <td>0.069207</td>\n",
              "      <td>2.449902</td>\n",
              "      <td>0.136697</td>\n",
              "      <td>-0.165460</td>\n",
              "      <td>0.403000</td>\n",
              "      <td>0.051941</td>\n",
              "      <td>-1.119600</td>\n",
              "      <td>...</td>\n",
              "      <td>0.112280</td>\n",
              "      <td>0.035361</td>\n",
              "      <td>-0.119345</td>\n",
              "      <td>0.199708</td>\n",
              "      <td>0.519058</td>\n",
              "      <td>0.063664</td>\n",
              "      <td>-0.052564</td>\n",
              "      <td>0.010307</td>\n",
              "      <td>88.29</td>\n",
              "      <td>0.0</td>\n",
              "    </tr>\n",
              "    <tr>\n",
              "      <th>1952</th>\n",
              "      <td>926.0</td>\n",
              "      <td>0.829998</td>\n",
              "      <td>-0.611411</td>\n",
              "      <td>1.035351</td>\n",
              "      <td>1.615569</td>\n",
              "      <td>-0.283094</td>\n",
              "      <td>2.146994</td>\n",
              "      <td>-0.830778</td>\n",
              "      <td>0.824311</td>\n",
              "      <td>1.478535</td>\n",
              "      <td>...</td>\n",
              "      <td>-0.309388</td>\n",
              "      <td>-0.500548</td>\n",
              "      <td>0.154324</td>\n",
              "      <td>-0.996832</td>\n",
              "      <td>0.108640</td>\n",
              "      <td>-0.411158</td>\n",
              "      <td>0.125290</td>\n",
              "      <td>0.023370</td>\n",
              "      <td>64.99</td>\n",
              "      <td>0.0</td>\n",
              "    </tr>\n",
              "    <tr>\n",
              "      <th>1953</th>\n",
              "      <td>7589.0</td>\n",
              "      <td>-0.271919</td>\n",
              "      <td>1.294849</td>\n",
              "      <td>1.104971</td>\n",
              "      <td>0.057965</td>\n",
              "      <td>0.587584</td>\n",
              "      <td>-0.434542</td>\n",
              "      <td>0.659491</td>\n",
              "      <td>-0.149449</td>\n",
              "      <td>0.816090</td>\n",
              "      <td>...</td>\n",
              "      <td>NaN</td>\n",
              "      <td>NaN</td>\n",
              "      <td>NaN</td>\n",
              "      <td>NaN</td>\n",
              "      <td>NaN</td>\n",
              "      <td>NaN</td>\n",
              "      <td>NaN</td>\n",
              "      <td>NaN</td>\n",
              "      <td>NaN</td>\n",
              "      <td>NaN</td>\n",
              "    </tr>\n",
              "  </tbody>\n",
              "</table>\n",
              "<p>1954 rows × 31 columns</p>\n",
              "</div>\n",
              "      <button class=\"colab-df-convert\" onclick=\"convertToInteractive('df-aeb377b0-a9a8-49ff-aebd-59af0a97d5c3')\"\n",
              "              title=\"Convert this dataframe to an interactive table.\"\n",
              "              style=\"display:none;\">\n",
              "        \n",
              "  <svg xmlns=\"http://www.w3.org/2000/svg\" height=\"24px\"viewBox=\"0 0 24 24\"\n",
              "       width=\"24px\">\n",
              "    <path d=\"M0 0h24v24H0V0z\" fill=\"none\"/>\n",
              "    <path d=\"M18.56 5.44l.94 2.06.94-2.06 2.06-.94-2.06-.94-.94-2.06-.94 2.06-2.06.94zm-11 1L8.5 8.5l.94-2.06 2.06-.94-2.06-.94L8.5 2.5l-.94 2.06-2.06.94zm10 10l.94 2.06.94-2.06 2.06-.94-2.06-.94-.94-2.06-.94 2.06-2.06.94z\"/><path d=\"M17.41 7.96l-1.37-1.37c-.4-.4-.92-.59-1.43-.59-.52 0-1.04.2-1.43.59L10.3 9.45l-7.72 7.72c-.78.78-.78 2.05 0 2.83L4 21.41c.39.39.9.59 1.41.59.51 0 1.02-.2 1.41-.59l7.78-7.78 2.81-2.81c.8-.78.8-2.07 0-2.86zM5.41 20L4 18.59l7.72-7.72 1.47 1.35L5.41 20z\"/>\n",
              "  </svg>\n",
              "      </button>\n",
              "      \n",
              "  <style>\n",
              "    .colab-df-container {\n",
              "      display:flex;\n",
              "      flex-wrap:wrap;\n",
              "      gap: 12px;\n",
              "    }\n",
              "\n",
              "    .colab-df-convert {\n",
              "      background-color: #E8F0FE;\n",
              "      border: none;\n",
              "      border-radius: 50%;\n",
              "      cursor: pointer;\n",
              "      display: none;\n",
              "      fill: #1967D2;\n",
              "      height: 32px;\n",
              "      padding: 0 0 0 0;\n",
              "      width: 32px;\n",
              "    }\n",
              "\n",
              "    .colab-df-convert:hover {\n",
              "      background-color: #E2EBFA;\n",
              "      box-shadow: 0px 1px 2px rgba(60, 64, 67, 0.3), 0px 1px 3px 1px rgba(60, 64, 67, 0.15);\n",
              "      fill: #174EA6;\n",
              "    }\n",
              "\n",
              "    [theme=dark] .colab-df-convert {\n",
              "      background-color: #3B4455;\n",
              "      fill: #D2E3FC;\n",
              "    }\n",
              "\n",
              "    [theme=dark] .colab-df-convert:hover {\n",
              "      background-color: #434B5C;\n",
              "      box-shadow: 0px 1px 3px 1px rgba(0, 0, 0, 0.15);\n",
              "      filter: drop-shadow(0px 1px 2px rgba(0, 0, 0, 0.3));\n",
              "      fill: #FFFFFF;\n",
              "    }\n",
              "  </style>\n",
              "\n",
              "      <script>\n",
              "        const buttonEl =\n",
              "          document.querySelector('#df-aeb377b0-a9a8-49ff-aebd-59af0a97d5c3 button.colab-df-convert');\n",
              "        buttonEl.style.display =\n",
              "          google.colab.kernel.accessAllowed ? 'block' : 'none';\n",
              "\n",
              "        async function convertToInteractive(key) {\n",
              "          const element = document.querySelector('#df-aeb377b0-a9a8-49ff-aebd-59af0a97d5c3');\n",
              "          const dataTable =\n",
              "            await google.colab.kernel.invokeFunction('convertToInteractive',\n",
              "                                                     [key], {});\n",
              "          if (!dataTable) return;\n",
              "\n",
              "          const docLinkHtml = 'Like what you see? Visit the ' +\n",
              "            '<a target=\"_blank\" href=https://colab.research.google.com/notebooks/data_table.ipynb>data table notebook</a>'\n",
              "            + ' to learn more about interactive tables.';\n",
              "          element.innerHTML = '';\n",
              "          dataTable['output_type'] = 'display_data';\n",
              "          await google.colab.output.renderOutput(dataTable, element);\n",
              "          const docLink = document.createElement('div');\n",
              "          docLink.innerHTML = docLinkHtml;\n",
              "          element.appendChild(docLink);\n",
              "        }\n",
              "      </script>\n",
              "    </div>\n",
              "  </div>\n",
              "  "
            ]
          },
          "metadata": {},
          "execution_count": 17
        }
      ],
      "source": [
        "train_data = pd.read_csv('fraud_train.csv')\n",
        "train_data"
      ],
      "id": "3f24eb72-9be5-4124-a656-0fc34a93a771"
    },
    {
      "cell_type": "code",
      "execution_count": 1,
      "metadata": {
        "id": "87165f90",
        "outputId": "95070918-3609-4573-d78c-56191432fc1d",
        "colab": {
          "base_uri": "https://localhost:8080/",
          "height": 188
        }
      },
      "outputs": [
        {
          "output_type": "error",
          "ename": "NameError",
          "evalue": "ignored",
          "traceback": [
            "\u001b[0;31m---------------------------------------------------------------------------\u001b[0m",
            "\u001b[0;31mNameError\u001b[0m                                 Traceback (most recent call last)",
            "\u001b[0;32m<ipython-input-1-316c247cb032>\u001b[0m in \u001b[0;36m<module>\u001b[0;34m\u001b[0m\n\u001b[0;32m----> 1\u001b[0;31m \u001b[0mtest_data\u001b[0m \u001b[0;34m=\u001b[0m \u001b[0mpd\u001b[0m\u001b[0;34m.\u001b[0m\u001b[0mread_csv\u001b[0m\u001b[0;34m(\u001b[0m\u001b[0;34m'fraud_test.csv'\u001b[0m\u001b[0;34m)\u001b[0m\u001b[0;34m\u001b[0m\u001b[0;34m\u001b[0m\u001b[0m\n\u001b[0m\u001b[1;32m      2\u001b[0m \u001b[0mtest_data\u001b[0m\u001b[0;34m\u001b[0m\u001b[0;34m\u001b[0m\u001b[0m\n",
            "\u001b[0;31mNameError\u001b[0m: name 'pd' is not defined"
          ]
        }
      ],
      "source": [
        "test_data = pd.read_csv('fraud_test.csv')\n",
        "test_data"
      ],
      "id": "87165f90"
    },
    {
      "cell_type": "code",
      "source": [
        "train_data.isnull().sum()"
      ],
      "metadata": {
        "colab": {
          "base_uri": "https://localhost:8080/"
        },
        "id": "AeqwyGkFOIZA",
        "outputId": "faf1ae7f-9059-406a-f2c5-61658652ce36"
      },
      "id": "AeqwyGkFOIZA",
      "execution_count": null,
      "outputs": [
        {
          "output_type": "execute_result",
          "data": {
            "text/plain": [
              "Time      0\n",
              "V1        0\n",
              "V2        0\n",
              "V3        0\n",
              "V4        0\n",
              "V5        0\n",
              "V6        0\n",
              "V7        0\n",
              "V8        0\n",
              "V9        0\n",
              "V10       0\n",
              "V11       0\n",
              "V12       0\n",
              "V13       0\n",
              "V14       0\n",
              "V15       0\n",
              "V16       0\n",
              "V17       0\n",
              "V18       0\n",
              "V19       0\n",
              "V20       0\n",
              "V21       0\n",
              "V22       0\n",
              "V23       0\n",
              "V24       0\n",
              "V25       0\n",
              "V26       0\n",
              "V27       0\n",
              "V28       0\n",
              "Amount    0\n",
              "dtype: int64"
            ]
          },
          "metadata": {},
          "execution_count": 11
        }
      ]
    },
    {
      "cell_type": "code",
      "source": [
        "train_data = train_data.dropna(axis=0, how='all', subset=['Class'])"
      ],
      "metadata": {
        "id": "V6WnmHGUOnGC"
      },
      "id": "V6WnmHGUOnGC",
      "execution_count": null,
      "outputs": []
    },
    {
      "cell_type": "code",
      "source": [
        "train_data.shape"
      ],
      "metadata": {
        "colab": {
          "base_uri": "https://localhost:8080/"
        },
        "id": "8atY96SdQK_C",
        "outputId": "58ac9379-305a-4216-f9fe-94010e49b30c"
      },
      "id": "8atY96SdQK_C",
      "execution_count": null,
      "outputs": [
        {
          "output_type": "execute_result",
          "data": {
            "text/plain": [
              "(1953, 31)"
            ]
          },
          "metadata": {},
          "execution_count": 19
        }
      ]
    },
    {
      "cell_type": "code",
      "source": [
        "for i in train_data.columns :\n",
        "  Q1 = train_data[i].quantile(.25)\n",
        "  Q3 = train_data[i].quantile(.75)\n",
        "  IQR = Q3 - Q1\n",
        "  train_data[(train_data[i]> Q1 - (1.5 * IQR)) & (train_data[i]< Q3 + (1.5 * IQR))]"
      ],
      "metadata": {
        "id": "t0Jk0VfePTj2"
      },
      "id": "t0Jk0VfePTj2",
      "execution_count": null,
      "outputs": []
    },
    {
      "cell_type": "code",
      "source": [
        "from sklearn.preprocessing import StandardScaler\n",
        "\n",
        "scaler = StandardScaler()\n",
        "\n",
        "train_data[['Time']] = scaler.fit_transform(train_data[['Time']])\n",
        "train_data[['Amount']] = scaler.fit_transform(train_data[['Amount']])\n",
        "\n",
        "test_data[['Time']] = scaler.fit_transform(test_data[['Time']])\n",
        "test_data[['Amount']] = scaler.fit_transform(test_data[['Amount']])"
      ],
      "metadata": {
        "colab": {
          "base_uri": "https://localhost:8080/"
        },
        "id": "aJO3MaOEOIhq",
        "outputId": "87938103-5072-4506-fa68-0052f323b096"
      },
      "id": "aJO3MaOEOIhq",
      "execution_count": null,
      "outputs": [
        {
          "output_type": "stream",
          "name": "stderr",
          "text": [
            "/usr/local/lib/python3.8/dist-packages/pandas/core/frame.py:3678: SettingWithCopyWarning: \n",
            "A value is trying to be set on a copy of a slice from a DataFrame.\n",
            "Try using .loc[row_indexer,col_indexer] = value instead\n",
            "\n",
            "See the caveats in the documentation: https://pandas.pydata.org/pandas-docs/stable/user_guide/indexing.html#returning-a-view-versus-a-copy\n",
            "  self[col] = igetitem(value, i)\n",
            "/usr/local/lib/python3.8/dist-packages/pandas/core/frame.py:3678: SettingWithCopyWarning: \n",
            "A value is trying to be set on a copy of a slice from a DataFrame.\n",
            "Try using .loc[row_indexer,col_indexer] = value instead\n",
            "\n",
            "See the caveats in the documentation: https://pandas.pydata.org/pandas-docs/stable/user_guide/indexing.html#returning-a-view-versus-a-copy\n",
            "  self[col] = igetitem(value, i)\n"
          ]
        }
      ]
    },
    {
      "cell_type": "markdown",
      "source": [
        "**mode**"
      ],
      "metadata": {
        "id": "zLPDPy_y8pEG"
      },
      "id": "zLPDPy_y8pEG"
    },
    {
      "cell_type": "code",
      "source": [
        "y=  train_data[['Class']]"
      ],
      "metadata": {
        "id": "Gy6-VPevRHxV"
      },
      "id": "Gy6-VPevRHxV",
      "execution_count": null,
      "outputs": []
    },
    {
      "cell_type": "code",
      "source": [
        "x = train_data.copy()\n",
        "x.drop(columns= ['Class'], inplace= True)"
      ],
      "metadata": {
        "id": "Yku3iiuVRH8N"
      },
      "id": "Yku3iiuVRH8N",
      "execution_count": null,
      "outputs": []
    },
    {
      "cell_type": "code",
      "execution_count": null,
      "metadata": {
        "id": "83cca2e5",
        "colab": {
          "base_uri": "https://localhost:8080/"
        },
        "outputId": "872caaa7-16f4-494a-a2fe-39d688a00ce7"
      },
      "outputs": [
        {
          "output_type": "stream",
          "name": "stderr",
          "text": [
            "/usr/local/lib/python3.8/dist-packages/sklearn/utils/validation.py:1141: DataConversionWarning: A column-vector y was passed when a 1d array was expected. Please change the shape of y to (n_samples, ), for example using ravel().\n",
            "  y = column_or_1d(y, warn=True)\n"
          ]
        }
      ],
      "source": [
        "from sklearn.svm import SVC\n",
        "\n",
        "model = SVC(C=3)\n",
        "model.fit(x, y)\n",
        "y_pred = model.predict(x)"
      ],
      "id": "83cca2e5"
    },
    {
      "cell_type": "markdown",
      "source": [
        "**evaluate the model**"
      ],
      "metadata": {
        "id": "m6iOIh7a8tiu"
      },
      "id": "m6iOIh7a8tiu"
    },
    {
      "cell_type": "code",
      "execution_count": null,
      "metadata": {
        "id": "84fc255b",
        "colab": {
          "base_uri": "https://localhost:8080/"
        },
        "outputId": "9ba9e115-a294-4b02-f897-3ce9dbeb5180"
      },
      "outputs": [
        {
          "output_type": "execute_result",
          "data": {
            "text/plain": [
              "0.99897119115563"
            ]
          },
          "metadata": {},
          "execution_count": 27
        }
      ],
      "source": [
        "# evaluate your model\n",
        "from sklearn.metrics import f1_score, classification_report\n",
        "f1_score(y, y_pred, average='weighted')"
      ],
      "id": "84fc255b"
    },
    {
      "cell_type": "markdown",
      "source": [
        "**prediction**"
      ],
      "metadata": {
        "id": "ulA41vjH81mb"
      },
      "id": "ulA41vjH81mb"
    },
    {
      "cell_type": "code",
      "execution_count": null,
      "metadata": {
        "id": "bd545db9",
        "colab": {
          "base_uri": "https://localhost:8080/",
          "height": 424
        },
        "outputId": "929e4c10-a160-4b6e-c987-23b72f3b71e4"
      },
      "outputs": [
        {
          "output_type": "execute_result",
          "data": {
            "text/plain": [
              "      Class\n",
              "0       0.0\n",
              "1       0.0\n",
              "2       0.0\n",
              "3       0.0\n",
              "4       0.0\n",
              "...     ...\n",
              "2609    0.0\n",
              "2610    0.0\n",
              "2611    0.0\n",
              "2612    0.0\n",
              "2613    0.0\n",
              "\n",
              "[2614 rows x 1 columns]"
            ],
            "text/html": [
              "\n",
              "  <div id=\"df-090e3c92-2c9f-438a-bef6-453b7b256081\">\n",
              "    <div class=\"colab-df-container\">\n",
              "      <div>\n",
              "<style scoped>\n",
              "    .dataframe tbody tr th:only-of-type {\n",
              "        vertical-align: middle;\n",
              "    }\n",
              "\n",
              "    .dataframe tbody tr th {\n",
              "        vertical-align: top;\n",
              "    }\n",
              "\n",
              "    .dataframe thead th {\n",
              "        text-align: right;\n",
              "    }\n",
              "</style>\n",
              "<table border=\"1\" class=\"dataframe\">\n",
              "  <thead>\n",
              "    <tr style=\"text-align: right;\">\n",
              "      <th></th>\n",
              "      <th>Class</th>\n",
              "    </tr>\n",
              "  </thead>\n",
              "  <tbody>\n",
              "    <tr>\n",
              "      <th>0</th>\n",
              "      <td>0.0</td>\n",
              "    </tr>\n",
              "    <tr>\n",
              "      <th>1</th>\n",
              "      <td>0.0</td>\n",
              "    </tr>\n",
              "    <tr>\n",
              "      <th>2</th>\n",
              "      <td>0.0</td>\n",
              "    </tr>\n",
              "    <tr>\n",
              "      <th>3</th>\n",
              "      <td>0.0</td>\n",
              "    </tr>\n",
              "    <tr>\n",
              "      <th>4</th>\n",
              "      <td>0.0</td>\n",
              "    </tr>\n",
              "    <tr>\n",
              "      <th>...</th>\n",
              "      <td>...</td>\n",
              "    </tr>\n",
              "    <tr>\n",
              "      <th>2609</th>\n",
              "      <td>0.0</td>\n",
              "    </tr>\n",
              "    <tr>\n",
              "      <th>2610</th>\n",
              "      <td>0.0</td>\n",
              "    </tr>\n",
              "    <tr>\n",
              "      <th>2611</th>\n",
              "      <td>0.0</td>\n",
              "    </tr>\n",
              "    <tr>\n",
              "      <th>2612</th>\n",
              "      <td>0.0</td>\n",
              "    </tr>\n",
              "    <tr>\n",
              "      <th>2613</th>\n",
              "      <td>0.0</td>\n",
              "    </tr>\n",
              "  </tbody>\n",
              "</table>\n",
              "<p>2614 rows × 1 columns</p>\n",
              "</div>\n",
              "      <button class=\"colab-df-convert\" onclick=\"convertToInteractive('df-090e3c92-2c9f-438a-bef6-453b7b256081')\"\n",
              "              title=\"Convert this dataframe to an interactive table.\"\n",
              "              style=\"display:none;\">\n",
              "        \n",
              "  <svg xmlns=\"http://www.w3.org/2000/svg\" height=\"24px\"viewBox=\"0 0 24 24\"\n",
              "       width=\"24px\">\n",
              "    <path d=\"M0 0h24v24H0V0z\" fill=\"none\"/>\n",
              "    <path d=\"M18.56 5.44l.94 2.06.94-2.06 2.06-.94-2.06-.94-.94-2.06-.94 2.06-2.06.94zm-11 1L8.5 8.5l.94-2.06 2.06-.94-2.06-.94L8.5 2.5l-.94 2.06-2.06.94zm10 10l.94 2.06.94-2.06 2.06-.94-2.06-.94-.94-2.06-.94 2.06-2.06.94z\"/><path d=\"M17.41 7.96l-1.37-1.37c-.4-.4-.92-.59-1.43-.59-.52 0-1.04.2-1.43.59L10.3 9.45l-7.72 7.72c-.78.78-.78 2.05 0 2.83L4 21.41c.39.39.9.59 1.41.59.51 0 1.02-.2 1.41-.59l7.78-7.78 2.81-2.81c.8-.78.8-2.07 0-2.86zM5.41 20L4 18.59l7.72-7.72 1.47 1.35L5.41 20z\"/>\n",
              "  </svg>\n",
              "      </button>\n",
              "      \n",
              "  <style>\n",
              "    .colab-df-container {\n",
              "      display:flex;\n",
              "      flex-wrap:wrap;\n",
              "      gap: 12px;\n",
              "    }\n",
              "\n",
              "    .colab-df-convert {\n",
              "      background-color: #E8F0FE;\n",
              "      border: none;\n",
              "      border-radius: 50%;\n",
              "      cursor: pointer;\n",
              "      display: none;\n",
              "      fill: #1967D2;\n",
              "      height: 32px;\n",
              "      padding: 0 0 0 0;\n",
              "      width: 32px;\n",
              "    }\n",
              "\n",
              "    .colab-df-convert:hover {\n",
              "      background-color: #E2EBFA;\n",
              "      box-shadow: 0px 1px 2px rgba(60, 64, 67, 0.3), 0px 1px 3px 1px rgba(60, 64, 67, 0.15);\n",
              "      fill: #174EA6;\n",
              "    }\n",
              "\n",
              "    [theme=dark] .colab-df-convert {\n",
              "      background-color: #3B4455;\n",
              "      fill: #D2E3FC;\n",
              "    }\n",
              "\n",
              "    [theme=dark] .colab-df-convert:hover {\n",
              "      background-color: #434B5C;\n",
              "      box-shadow: 0px 1px 3px 1px rgba(0, 0, 0, 0.15);\n",
              "      filter: drop-shadow(0px 1px 2px rgba(0, 0, 0, 0.3));\n",
              "      fill: #FFFFFF;\n",
              "    }\n",
              "  </style>\n",
              "\n",
              "      <script>\n",
              "        const buttonEl =\n",
              "          document.querySelector('#df-090e3c92-2c9f-438a-bef6-453b7b256081 button.colab-df-convert');\n",
              "        buttonEl.style.display =\n",
              "          google.colab.kernel.accessAllowed ? 'block' : 'none';\n",
              "\n",
              "        async function convertToInteractive(key) {\n",
              "          const element = document.querySelector('#df-090e3c92-2c9f-438a-bef6-453b7b256081');\n",
              "          const dataTable =\n",
              "            await google.colab.kernel.invokeFunction('convertToInteractive',\n",
              "                                                     [key], {});\n",
              "          if (!dataTable) return;\n",
              "\n",
              "          const docLinkHtml = 'Like what you see? Visit the ' +\n",
              "            '<a target=\"_blank\" href=https://colab.research.google.com/notebooks/data_table.ipynb>data table notebook</a>'\n",
              "            + ' to learn more about interactive tables.';\n",
              "          element.innerHTML = '';\n",
              "          dataTable['output_type'] = 'display_data';\n",
              "          await google.colab.output.renderOutput(dataTable, element);\n",
              "          const docLink = document.createElement('div');\n",
              "          docLink.innerHTML = docLinkHtml;\n",
              "          element.appendChild(docLink);\n",
              "        }\n",
              "      </script>\n",
              "    </div>\n",
              "  </div>\n",
              "  "
            ]
          },
          "metadata": {},
          "execution_count": 28
        }
      ],
      "source": [
        "# predict labels for test samples\n",
        "y_pred = model.predict(test_data)\n",
        "submission =pd.DataFrame(y_pred, columns=['Class']) # To-Do\n",
        "submission"
      ],
      "id": "bd545db9"
    }
  ],
  "metadata": {
    "colab": {
      "provenance": []
    },
    "kernelspec": {
      "display_name": "Python 3 (ipykernel)",
      "language": "python",
      "name": "python3"
    },
    "language_info": {
      "codemirror_mode": {
        "name": "ipython",
        "version": 3
      },
      "file_extension": ".py",
      "mimetype": "text/x-python",
      "name": "python",
      "nbconvert_exporter": "python",
      "pygments_lexer": "ipython3",
      "version": "3.8.6"
    },
    "vscode": {
      "interpreter": {
        "hash": "45efbd2215c372e1dad45abd5af7507e40fba3930613cc2a55269c9b505d98e4"
      }
    }
  },
  "nbformat": 4,
  "nbformat_minor": 5
}